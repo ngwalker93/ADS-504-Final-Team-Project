{
  "nbformat": 4,
  "nbformat_minor": 0,
  "metadata": {
    "colab": {
      "provenance": [],
      "include_colab_link": true
    },
    "kernelspec": {
      "name": "python3",
      "display_name": "Python 3"
    },
    "language_info": {
      "name": "python"
    }
  },
  "cells": [
    {
      "cell_type": "markdown",
      "metadata": {
        "id": "view-in-github",
        "colab_type": "text"
      },
      "source": [
        "<a href=\"https://colab.research.google.com/github/ngwalker93/ADS-504-Final-Team-Project/blob/main/ADS_504FinalProj.ipynb\" target=\"_parent\"><img src=\"https://colab.research.google.com/assets/colab-badge.svg\" alt=\"Open In Colab\"/></a>"
      ]
    },
    {
      "cell_type": "markdown",
      "source": [
        "# 504 Final Team Project\n",
        "# Weight Lifting Exercises monitored with Inertial Measurement Units\n",
        "\n",
        "### Team 6: Kiara Paz, Jordan Torres, and Nancy Walker\n",
        "\n",
        "## Introduction\n",
        " This project aims to assess the application of machine learning methods and programming techniques.\n",
        "\n",
        "## Dataset Discription\n",
        "Weight Lifting Exercises monitored with Inertial Measurement Units: https://archive.ics.uci.edu/dataset/273/weight+lifting+exercises+monitored+with+inertial+measurement+units\n",
        "\n",
        "The data set was sourced from the UC Irvine Machine Learning Repository. It contains observations of six healthy subjects that performed 5 variations of the bicep curl weight lifting exercise. A health care professional predicted one of the varaitions.\n",
        "\n",
        "## Problem Definition\n"
      ],
      "metadata": {
        "id": "f_kpuizcsSfN"
      }
    },
    {
      "cell_type": "markdown",
      "source": [
        "## Import Libraries and Dataset"
      ],
      "metadata": {
        "id": "3gvVxMmyUSDR"
      }
    },
    {
      "cell_type": "code",
      "source": [
        "# Import Libaries\n",
        "import pandas as pd\n",
        "import numpy as np\n",
        "import os\n",
        "import matplotlib.pyplot as plt\n",
        "import seaborn as sns"
      ],
      "metadata": {
        "id": "FlG1MSpISpUD"
      },
      "execution_count": null,
      "outputs": []
    },
    {
      "cell_type": "code",
      "execution_count": null,
      "metadata": {
        "id": "WiPJkJJasFaP",
        "outputId": "f55380d8-275b-4797-e8f8-93c1ba1912d7",
        "colab": {
          "base_uri": "https://localhost:8080/"
        }
      },
      "outputs": [
        {
          "output_type": "stream",
          "name": "stdout",
          "text": [
            "Cloning into 'ADS-504-Final-Team-Project'...\n",
            "remote: Enumerating objects: 18, done.\u001b[K\n",
            "remote: Counting objects: 100% (18/18), done.\u001b[K\n",
            "remote: Compressing objects: 100% (16/16), done.\u001b[K\n",
            "remote: Total 18 (delta 4), reused 2 (delta 0), pack-reused 0 (from 0)\u001b[K\n",
            "Receiving objects: 100% (18/18), 473.92 KiB | 7.64 MiB/s, done.\n",
            "Resolving deltas: 100% (4/4), done.\n"
          ]
        }
      ],
      "source": [
        "# Attach GitHub repository to retrieve dataset\n",
        "!git clone https://github.com/ngwalker93/ADS-504-Final-Team-Project.git"
      ]
    },
    {
      "cell_type": "code",
      "source": [
        "# Check that repository was added\n",
        "!ls ADS-504-Final-Team-Project"
      ],
      "metadata": {
        "id": "LmNHBCbsWKS1",
        "outputId": "c9d8623e-e4c7-42ea-a49f-73d1eccba295",
        "colab": {
          "base_uri": "https://localhost:8080/"
        }
      },
      "execution_count": null,
      "outputs": [
        {
          "output_type": "stream",
          "name": "stdout",
          "text": [
            "ADS_504FinalProj.ipynb\n",
            "Example_WearableComputing_weight_lifting_exercises_biceps_curl_variations.csv\n",
            "README.md\n"
          ]
        }
      ]
    },
    {
      "cell_type": "code",
      "source": [
        "# Read .csv file\n",
        "df = pd.read_csv('ADS-504-Final-Team-Project/Example_WearableComputing_weight_lifting_exercises_biceps_curl_variations.csv', skiprows=1, delimiter=',')\n",
        "df.head()"
      ],
      "metadata": {
        "id": "DTklcAF3TWwa",
        "outputId": "d331e6e4-6281-493a-8887-19c5447633e2",
        "colab": {
          "base_uri": "https://localhost:8080/",
          "height": 256
        }
      },
      "execution_count": null,
      "outputs": [
        {
          "output_type": "execute_result",
          "data": {
            "text/plain": [
              "  user_name  raw_timestamp_part_1  raw_timestamp_part_2    cvtd_timestamp  \\\n",
              "0    eurico            1322489729                 34670  28/11/2011 14:15   \n",
              "1    eurico            1322489729                 62641  28/11/2011 14:15   \n",
              "2    eurico            1322489729                 70653  28/11/2011 14:15   \n",
              "3    eurico            1322489729                 82654  28/11/2011 14:15   \n",
              "4    eurico            1322489729                 90637  28/11/2011 14:15   \n",
              "\n",
              "  new_window  num_window  roll_belt  pitch_belt  yaw_belt  total_accel_belt  \\\n",
              "0         no           1       3.70        41.6     -82.8                 3   \n",
              "1         no           1       3.66        42.8     -82.5                 2   \n",
              "2         no           1       3.58        43.7     -82.3                 1   \n",
              "3         no           1       3.56        44.4     -82.1                 1   \n",
              "4         no           1       3.57        45.1     -81.9                 1   \n",
              "\n",
              "   ...  gyros_forearm_x gyros_forearm_y gyros_forearm_z  accel_forearm_x  \\\n",
              "0  ...            -0.05           -0.37           -0.43             -170   \n",
              "1  ...            -0.06           -0.37           -0.59             -178   \n",
              "2  ...            -0.05           -0.27           -0.72             -182   \n",
              "3  ...             0.02           -0.24           -0.79             -185   \n",
              "4  ...             0.08           -0.27           -0.82             -188   \n",
              "\n",
              "  accel_forearm_y accel_forearm_z  magnet_forearm_x  magnet_forearm_y  \\\n",
              "0             155             184             -1160              1400   \n",
              "1             164             182             -1150              1410   \n",
              "2             172             185             -1130              1400   \n",
              "3             182             188             -1120              1400   \n",
              "4             195             188             -1100              1400   \n",
              "\n",
              "   magnet_forearm_z  classe  \n",
              "0              -876       E  \n",
              "1              -871       E  \n",
              "2              -863       E  \n",
              "3              -855       E  \n",
              "4              -843       E  \n",
              "\n",
              "[5 rows x 159 columns]"
            ],
            "text/html": [
              "\n",
              "  <div id=\"df-6120a3fa-fad9-412a-ab4c-0cec90968954\" class=\"colab-df-container\">\n",
              "    <div>\n",
              "<style scoped>\n",
              "    .dataframe tbody tr th:only-of-type {\n",
              "        vertical-align: middle;\n",
              "    }\n",
              "\n",
              "    .dataframe tbody tr th {\n",
              "        vertical-align: top;\n",
              "    }\n",
              "\n",
              "    .dataframe thead th {\n",
              "        text-align: right;\n",
              "    }\n",
              "</style>\n",
              "<table border=\"1\" class=\"dataframe\">\n",
              "  <thead>\n",
              "    <tr style=\"text-align: right;\">\n",
              "      <th></th>\n",
              "      <th>user_name</th>\n",
              "      <th>raw_timestamp_part_1</th>\n",
              "      <th>raw_timestamp_part_2</th>\n",
              "      <th>cvtd_timestamp</th>\n",
              "      <th>new_window</th>\n",
              "      <th>num_window</th>\n",
              "      <th>roll_belt</th>\n",
              "      <th>pitch_belt</th>\n",
              "      <th>yaw_belt</th>\n",
              "      <th>total_accel_belt</th>\n",
              "      <th>...</th>\n",
              "      <th>gyros_forearm_x</th>\n",
              "      <th>gyros_forearm_y</th>\n",
              "      <th>gyros_forearm_z</th>\n",
              "      <th>accel_forearm_x</th>\n",
              "      <th>accel_forearm_y</th>\n",
              "      <th>accel_forearm_z</th>\n",
              "      <th>magnet_forearm_x</th>\n",
              "      <th>magnet_forearm_y</th>\n",
              "      <th>magnet_forearm_z</th>\n",
              "      <th>classe</th>\n",
              "    </tr>\n",
              "  </thead>\n",
              "  <tbody>\n",
              "    <tr>\n",
              "      <th>0</th>\n",
              "      <td>eurico</td>\n",
              "      <td>1322489729</td>\n",
              "      <td>34670</td>\n",
              "      <td>28/11/2011 14:15</td>\n",
              "      <td>no</td>\n",
              "      <td>1</td>\n",
              "      <td>3.70</td>\n",
              "      <td>41.6</td>\n",
              "      <td>-82.8</td>\n",
              "      <td>3</td>\n",
              "      <td>...</td>\n",
              "      <td>-0.05</td>\n",
              "      <td>-0.37</td>\n",
              "      <td>-0.43</td>\n",
              "      <td>-170</td>\n",
              "      <td>155</td>\n",
              "      <td>184</td>\n",
              "      <td>-1160</td>\n",
              "      <td>1400</td>\n",
              "      <td>-876</td>\n",
              "      <td>E</td>\n",
              "    </tr>\n",
              "    <tr>\n",
              "      <th>1</th>\n",
              "      <td>eurico</td>\n",
              "      <td>1322489729</td>\n",
              "      <td>62641</td>\n",
              "      <td>28/11/2011 14:15</td>\n",
              "      <td>no</td>\n",
              "      <td>1</td>\n",
              "      <td>3.66</td>\n",
              "      <td>42.8</td>\n",
              "      <td>-82.5</td>\n",
              "      <td>2</td>\n",
              "      <td>...</td>\n",
              "      <td>-0.06</td>\n",
              "      <td>-0.37</td>\n",
              "      <td>-0.59</td>\n",
              "      <td>-178</td>\n",
              "      <td>164</td>\n",
              "      <td>182</td>\n",
              "      <td>-1150</td>\n",
              "      <td>1410</td>\n",
              "      <td>-871</td>\n",
              "      <td>E</td>\n",
              "    </tr>\n",
              "    <tr>\n",
              "      <th>2</th>\n",
              "      <td>eurico</td>\n",
              "      <td>1322489729</td>\n",
              "      <td>70653</td>\n",
              "      <td>28/11/2011 14:15</td>\n",
              "      <td>no</td>\n",
              "      <td>1</td>\n",
              "      <td>3.58</td>\n",
              "      <td>43.7</td>\n",
              "      <td>-82.3</td>\n",
              "      <td>1</td>\n",
              "      <td>...</td>\n",
              "      <td>-0.05</td>\n",
              "      <td>-0.27</td>\n",
              "      <td>-0.72</td>\n",
              "      <td>-182</td>\n",
              "      <td>172</td>\n",
              "      <td>185</td>\n",
              "      <td>-1130</td>\n",
              "      <td>1400</td>\n",
              "      <td>-863</td>\n",
              "      <td>E</td>\n",
              "    </tr>\n",
              "    <tr>\n",
              "      <th>3</th>\n",
              "      <td>eurico</td>\n",
              "      <td>1322489729</td>\n",
              "      <td>82654</td>\n",
              "      <td>28/11/2011 14:15</td>\n",
              "      <td>no</td>\n",
              "      <td>1</td>\n",
              "      <td>3.56</td>\n",
              "      <td>44.4</td>\n",
              "      <td>-82.1</td>\n",
              "      <td>1</td>\n",
              "      <td>...</td>\n",
              "      <td>0.02</td>\n",
              "      <td>-0.24</td>\n",
              "      <td>-0.79</td>\n",
              "      <td>-185</td>\n",
              "      <td>182</td>\n",
              "      <td>188</td>\n",
              "      <td>-1120</td>\n",
              "      <td>1400</td>\n",
              "      <td>-855</td>\n",
              "      <td>E</td>\n",
              "    </tr>\n",
              "    <tr>\n",
              "      <th>4</th>\n",
              "      <td>eurico</td>\n",
              "      <td>1322489729</td>\n",
              "      <td>90637</td>\n",
              "      <td>28/11/2011 14:15</td>\n",
              "      <td>no</td>\n",
              "      <td>1</td>\n",
              "      <td>3.57</td>\n",
              "      <td>45.1</td>\n",
              "      <td>-81.9</td>\n",
              "      <td>1</td>\n",
              "      <td>...</td>\n",
              "      <td>0.08</td>\n",
              "      <td>-0.27</td>\n",
              "      <td>-0.82</td>\n",
              "      <td>-188</td>\n",
              "      <td>195</td>\n",
              "      <td>188</td>\n",
              "      <td>-1100</td>\n",
              "      <td>1400</td>\n",
              "      <td>-843</td>\n",
              "      <td>E</td>\n",
              "    </tr>\n",
              "  </tbody>\n",
              "</table>\n",
              "<p>5 rows × 159 columns</p>\n",
              "</div>\n",
              "    <div class=\"colab-df-buttons\">\n",
              "\n",
              "  <div class=\"colab-df-container\">\n",
              "    <button class=\"colab-df-convert\" onclick=\"convertToInteractive('df-6120a3fa-fad9-412a-ab4c-0cec90968954')\"\n",
              "            title=\"Convert this dataframe to an interactive table.\"\n",
              "            style=\"display:none;\">\n",
              "\n",
              "  <svg xmlns=\"http://www.w3.org/2000/svg\" height=\"24px\" viewBox=\"0 -960 960 960\">\n",
              "    <path d=\"M120-120v-720h720v720H120Zm60-500h600v-160H180v160Zm220 220h160v-160H400v160Zm0 220h160v-160H400v160ZM180-400h160v-160H180v160Zm440 0h160v-160H620v160ZM180-180h160v-160H180v160Zm440 0h160v-160H620v160Z\"/>\n",
              "  </svg>\n",
              "    </button>\n",
              "\n",
              "  <style>\n",
              "    .colab-df-container {\n",
              "      display:flex;\n",
              "      gap: 12px;\n",
              "    }\n",
              "\n",
              "    .colab-df-convert {\n",
              "      background-color: #E8F0FE;\n",
              "      border: none;\n",
              "      border-radius: 50%;\n",
              "      cursor: pointer;\n",
              "      display: none;\n",
              "      fill: #1967D2;\n",
              "      height: 32px;\n",
              "      padding: 0 0 0 0;\n",
              "      width: 32px;\n",
              "    }\n",
              "\n",
              "    .colab-df-convert:hover {\n",
              "      background-color: #E2EBFA;\n",
              "      box-shadow: 0px 1px 2px rgba(60, 64, 67, 0.3), 0px 1px 3px 1px rgba(60, 64, 67, 0.15);\n",
              "      fill: #174EA6;\n",
              "    }\n",
              "\n",
              "    .colab-df-buttons div {\n",
              "      margin-bottom: 4px;\n",
              "    }\n",
              "\n",
              "    [theme=dark] .colab-df-convert {\n",
              "      background-color: #3B4455;\n",
              "      fill: #D2E3FC;\n",
              "    }\n",
              "\n",
              "    [theme=dark] .colab-df-convert:hover {\n",
              "      background-color: #434B5C;\n",
              "      box-shadow: 0px 1px 3px 1px rgba(0, 0, 0, 0.15);\n",
              "      filter: drop-shadow(0px 1px 2px rgba(0, 0, 0, 0.3));\n",
              "      fill: #FFFFFF;\n",
              "    }\n",
              "  </style>\n",
              "\n",
              "    <script>\n",
              "      const buttonEl =\n",
              "        document.querySelector('#df-6120a3fa-fad9-412a-ab4c-0cec90968954 button.colab-df-convert');\n",
              "      buttonEl.style.display =\n",
              "        google.colab.kernel.accessAllowed ? 'block' : 'none';\n",
              "\n",
              "      async function convertToInteractive(key) {\n",
              "        const element = document.querySelector('#df-6120a3fa-fad9-412a-ab4c-0cec90968954');\n",
              "        const dataTable =\n",
              "          await google.colab.kernel.invokeFunction('convertToInteractive',\n",
              "                                                    [key], {});\n",
              "        if (!dataTable) return;\n",
              "\n",
              "        const docLinkHtml = 'Like what you see? Visit the ' +\n",
              "          '<a target=\"_blank\" href=https://colab.research.google.com/notebooks/data_table.ipynb>data table notebook</a>'\n",
              "          + ' to learn more about interactive tables.';\n",
              "        element.innerHTML = '';\n",
              "        dataTable['output_type'] = 'display_data';\n",
              "        await google.colab.output.renderOutput(dataTable, element);\n",
              "        const docLink = document.createElement('div');\n",
              "        docLink.innerHTML = docLinkHtml;\n",
              "        element.appendChild(docLink);\n",
              "      }\n",
              "    </script>\n",
              "  </div>\n",
              "\n",
              "\n",
              "    <div id=\"df-8cf7aaff-1c29-4579-99da-ead69acde07f\">\n",
              "      <button class=\"colab-df-quickchart\" onclick=\"quickchart('df-8cf7aaff-1c29-4579-99da-ead69acde07f')\"\n",
              "                title=\"Suggest charts\"\n",
              "                style=\"display:none;\">\n",
              "\n",
              "<svg xmlns=\"http://www.w3.org/2000/svg\" height=\"24px\"viewBox=\"0 0 24 24\"\n",
              "     width=\"24px\">\n",
              "    <g>\n",
              "        <path d=\"M19 3H5c-1.1 0-2 .9-2 2v14c0 1.1.9 2 2 2h14c1.1 0 2-.9 2-2V5c0-1.1-.9-2-2-2zM9 17H7v-7h2v7zm4 0h-2V7h2v10zm4 0h-2v-4h2v4z\"/>\n",
              "    </g>\n",
              "</svg>\n",
              "      </button>\n",
              "\n",
              "<style>\n",
              "  .colab-df-quickchart {\n",
              "      --bg-color: #E8F0FE;\n",
              "      --fill-color: #1967D2;\n",
              "      --hover-bg-color: #E2EBFA;\n",
              "      --hover-fill-color: #174EA6;\n",
              "      --disabled-fill-color: #AAA;\n",
              "      --disabled-bg-color: #DDD;\n",
              "  }\n",
              "\n",
              "  [theme=dark] .colab-df-quickchart {\n",
              "      --bg-color: #3B4455;\n",
              "      --fill-color: #D2E3FC;\n",
              "      --hover-bg-color: #434B5C;\n",
              "      --hover-fill-color: #FFFFFF;\n",
              "      --disabled-bg-color: #3B4455;\n",
              "      --disabled-fill-color: #666;\n",
              "  }\n",
              "\n",
              "  .colab-df-quickchart {\n",
              "    background-color: var(--bg-color);\n",
              "    border: none;\n",
              "    border-radius: 50%;\n",
              "    cursor: pointer;\n",
              "    display: none;\n",
              "    fill: var(--fill-color);\n",
              "    height: 32px;\n",
              "    padding: 0;\n",
              "    width: 32px;\n",
              "  }\n",
              "\n",
              "  .colab-df-quickchart:hover {\n",
              "    background-color: var(--hover-bg-color);\n",
              "    box-shadow: 0 1px 2px rgba(60, 64, 67, 0.3), 0 1px 3px 1px rgba(60, 64, 67, 0.15);\n",
              "    fill: var(--button-hover-fill-color);\n",
              "  }\n",
              "\n",
              "  .colab-df-quickchart-complete:disabled,\n",
              "  .colab-df-quickchart-complete:disabled:hover {\n",
              "    background-color: var(--disabled-bg-color);\n",
              "    fill: var(--disabled-fill-color);\n",
              "    box-shadow: none;\n",
              "  }\n",
              "\n",
              "  .colab-df-spinner {\n",
              "    border: 2px solid var(--fill-color);\n",
              "    border-color: transparent;\n",
              "    border-bottom-color: var(--fill-color);\n",
              "    animation:\n",
              "      spin 1s steps(1) infinite;\n",
              "  }\n",
              "\n",
              "  @keyframes spin {\n",
              "    0% {\n",
              "      border-color: transparent;\n",
              "      border-bottom-color: var(--fill-color);\n",
              "      border-left-color: var(--fill-color);\n",
              "    }\n",
              "    20% {\n",
              "      border-color: transparent;\n",
              "      border-left-color: var(--fill-color);\n",
              "      border-top-color: var(--fill-color);\n",
              "    }\n",
              "    30% {\n",
              "      border-color: transparent;\n",
              "      border-left-color: var(--fill-color);\n",
              "      border-top-color: var(--fill-color);\n",
              "      border-right-color: var(--fill-color);\n",
              "    }\n",
              "    40% {\n",
              "      border-color: transparent;\n",
              "      border-right-color: var(--fill-color);\n",
              "      border-top-color: var(--fill-color);\n",
              "    }\n",
              "    60% {\n",
              "      border-color: transparent;\n",
              "      border-right-color: var(--fill-color);\n",
              "    }\n",
              "    80% {\n",
              "      border-color: transparent;\n",
              "      border-right-color: var(--fill-color);\n",
              "      border-bottom-color: var(--fill-color);\n",
              "    }\n",
              "    90% {\n",
              "      border-color: transparent;\n",
              "      border-bottom-color: var(--fill-color);\n",
              "    }\n",
              "  }\n",
              "</style>\n",
              "\n",
              "      <script>\n",
              "        async function quickchart(key) {\n",
              "          const quickchartButtonEl =\n",
              "            document.querySelector('#' + key + ' button');\n",
              "          quickchartButtonEl.disabled = true;  // To prevent multiple clicks.\n",
              "          quickchartButtonEl.classList.add('colab-df-spinner');\n",
              "          try {\n",
              "            const charts = await google.colab.kernel.invokeFunction(\n",
              "                'suggestCharts', [key], {});\n",
              "          } catch (error) {\n",
              "            console.error('Error during call to suggestCharts:', error);\n",
              "          }\n",
              "          quickchartButtonEl.classList.remove('colab-df-spinner');\n",
              "          quickchartButtonEl.classList.add('colab-df-quickchart-complete');\n",
              "        }\n",
              "        (() => {\n",
              "          let quickchartButtonEl =\n",
              "            document.querySelector('#df-8cf7aaff-1c29-4579-99da-ead69acde07f button');\n",
              "          quickchartButtonEl.style.display =\n",
              "            google.colab.kernel.accessAllowed ? 'block' : 'none';\n",
              "        })();\n",
              "      </script>\n",
              "    </div>\n",
              "\n",
              "    </div>\n",
              "  </div>\n"
            ],
            "application/vnd.google.colaboratory.intrinsic+json": {
              "type": "dataframe",
              "variable_name": "df"
            }
          },
          "metadata": {},
          "execution_count": 26
        }
      ]
    },
    {
      "cell_type": "code",
      "source": [
        "df.info()"
      ],
      "metadata": {
        "colab": {
          "base_uri": "https://localhost:8080/"
        },
        "id": "HzulxjKBEN1Y",
        "outputId": "3e133ea2-7337-4fa3-ac4d-7bf01cda78ef"
      },
      "execution_count": null,
      "outputs": [
        {
          "output_type": "stream",
          "name": "stdout",
          "text": [
            "<class 'pandas.core.frame.DataFrame'>\n",
            "RangeIndex: 4024 entries, 0 to 4023\n",
            "Columns: 159 entries, user_name to classe\n",
            "dtypes: float64(103), int64(31), object(25)\n",
            "memory usage: 4.9+ MB\n"
          ]
        }
      ]
    },
    {
      "cell_type": "markdown",
      "source": [
        "## Exploratory Data Analysis (EDA)"
      ],
      "metadata": {
        "id": "yY4ud8g_Iagz"
      }
    },
    {
      "cell_type": "code",
      "source": [
        "# Get the count of null values for each column\n",
        "null_counts = df.isnull().sum()\n",
        "\n",
        "# Display the null counts\n",
        "display(null_counts[null_counts > 0]) # Display only columns with null values"
      ],
      "metadata": {
        "colab": {
          "base_uri": "https://localhost:8080/",
          "height": 459
        },
        "id": "GLyJsRr6FUA6",
        "outputId": "229b4da7-0c7e-43a1-f4e3-2357dfc729cb"
      },
      "execution_count": null,
      "outputs": [
        {
          "output_type": "display_data",
          "data": {
            "text/plain": [
              "kurtosis_roll_belt      3936\n",
              "kurtosis_picth_belt     3936\n",
              "kurtosis_yaw_belt       3936\n",
              "skewness_roll_belt      3936\n",
              "skewness_roll_belt.1    3936\n",
              "                        ... \n",
              "stddev_pitch_forearm    3936\n",
              "var_pitch_forearm       3936\n",
              "avg_yaw_forearm         3936\n",
              "stddev_yaw_forearm      3936\n",
              "var_yaw_forearm         3936\n",
              "Length: 100, dtype: int64"
            ],
            "text/html": [
              "<div>\n",
              "<style scoped>\n",
              "    .dataframe tbody tr th:only-of-type {\n",
              "        vertical-align: middle;\n",
              "    }\n",
              "\n",
              "    .dataframe tbody tr th {\n",
              "        vertical-align: top;\n",
              "    }\n",
              "\n",
              "    .dataframe thead th {\n",
              "        text-align: right;\n",
              "    }\n",
              "</style>\n",
              "<table border=\"1\" class=\"dataframe\">\n",
              "  <thead>\n",
              "    <tr style=\"text-align: right;\">\n",
              "      <th></th>\n",
              "      <th>0</th>\n",
              "    </tr>\n",
              "  </thead>\n",
              "  <tbody>\n",
              "    <tr>\n",
              "      <th>kurtosis_roll_belt</th>\n",
              "      <td>3936</td>\n",
              "    </tr>\n",
              "    <tr>\n",
              "      <th>kurtosis_picth_belt</th>\n",
              "      <td>3936</td>\n",
              "    </tr>\n",
              "    <tr>\n",
              "      <th>kurtosis_yaw_belt</th>\n",
              "      <td>3936</td>\n",
              "    </tr>\n",
              "    <tr>\n",
              "      <th>skewness_roll_belt</th>\n",
              "      <td>3936</td>\n",
              "    </tr>\n",
              "    <tr>\n",
              "      <th>skewness_roll_belt.1</th>\n",
              "      <td>3936</td>\n",
              "    </tr>\n",
              "    <tr>\n",
              "      <th>...</th>\n",
              "      <td>...</td>\n",
              "    </tr>\n",
              "    <tr>\n",
              "      <th>stddev_pitch_forearm</th>\n",
              "      <td>3936</td>\n",
              "    </tr>\n",
              "    <tr>\n",
              "      <th>var_pitch_forearm</th>\n",
              "      <td>3936</td>\n",
              "    </tr>\n",
              "    <tr>\n",
              "      <th>avg_yaw_forearm</th>\n",
              "      <td>3936</td>\n",
              "    </tr>\n",
              "    <tr>\n",
              "      <th>stddev_yaw_forearm</th>\n",
              "      <td>3936</td>\n",
              "    </tr>\n",
              "    <tr>\n",
              "      <th>var_yaw_forearm</th>\n",
              "      <td>3936</td>\n",
              "    </tr>\n",
              "  </tbody>\n",
              "</table>\n",
              "<p>100 rows × 1 columns</p>\n",
              "</div><br><label><b>dtype:</b> int64</label>"
            ]
          },
          "metadata": {}
        }
      ]
    },
    {
      "cell_type": "markdown",
      "source": [
        "Given that 100 columns have a large number of null values (3936 out of 4024 rows), dropping columns might be a reasonable approach if those specific features are not crucial for analysis. Alternatively, imputation can be consider, but with such a high percentage of missing values, imputation might not be the best option unless there is a strong reason to keep these columns.\n",
        "\n",
        "Theses column appear to be the columns that contain statisitcal caculations. \"Each IMU has x, y, and z values + euler angles (roll, pitch and yaw). For each time window (1s of data), there are several statistics calculations, like Kurtosis, Variance, etc.\""
      ],
      "metadata": {
        "id": "DltOmSIPH71i"
      }
    },
    {
      "cell_type": "code",
      "source": [
        "# Get the names of columns with null values\n",
        "cols_to_drop = null_counts[null_counts > 0].index\n",
        "\n",
        "# Drop the columns with null values\n",
        "df_dropped = df.drop(columns=cols_to_drop)\n",
        "\n",
        "# Display the first few rows and the columns and their data types of the new DataFrame\n",
        "df_dropped.head()\n",
        "df_dropped.info()"
      ],
      "metadata": {
        "colab": {
          "base_uri": "https://localhost:8080/"
        },
        "id": "GQoZ4ys8JvNz",
        "outputId": "d252353b-1b43-4e1d-e1c8-611b0de9d6db"
      },
      "execution_count": null,
      "outputs": [
        {
          "output_type": "stream",
          "name": "stdout",
          "text": [
            "<class 'pandas.core.frame.DataFrame'>\n",
            "RangeIndex: 4024 entries, 0 to 4023\n",
            "Data columns (total 59 columns):\n",
            " #   Column                Non-Null Count  Dtype  \n",
            "---  ------                --------------  -----  \n",
            " 0   user_name             4024 non-null   object \n",
            " 1   raw_timestamp_part_1  4024 non-null   int64  \n",
            " 2   raw_timestamp_part_2  4024 non-null   int64  \n",
            " 3   cvtd_timestamp        4024 non-null   object \n",
            " 4   new_window            4024 non-null   object \n",
            " 5   num_window            4024 non-null   int64  \n",
            " 6   roll_belt             4024 non-null   float64\n",
            " 7   pitch_belt            4024 non-null   float64\n",
            " 8   yaw_belt              4024 non-null   float64\n",
            " 9   total_accel_belt      4024 non-null   int64  \n",
            " 10  gyros_belt_x          4024 non-null   float64\n",
            " 11  gyros_belt_y          4024 non-null   float64\n",
            " 12  gyros_belt_z          4024 non-null   float64\n",
            " 13  accel_belt_x          4024 non-null   int64  \n",
            " 14  accel_belt_y          4024 non-null   int64  \n",
            " 15  accel_belt_z          4024 non-null   int64  \n",
            " 16  magnet_belt_x         4024 non-null   int64  \n",
            " 17  magnet_belt_y         4024 non-null   int64  \n",
            " 18  magnet_belt_z         4024 non-null   int64  \n",
            " 19  roll_arm              4024 non-null   float64\n",
            " 20  pitch_arm             4024 non-null   float64\n",
            " 21  yaw_arm               4024 non-null   float64\n",
            " 22  total_accel_arm       4024 non-null   int64  \n",
            " 23  gyros_arm_x           4024 non-null   float64\n",
            " 24  gyros_arm_y           4024 non-null   float64\n",
            " 25  gyros_arm_z           4024 non-null   float64\n",
            " 26  accel_arm_x           4024 non-null   int64  \n",
            " 27  accel_arm_y           4024 non-null   int64  \n",
            " 28  accel_arm_z           4024 non-null   int64  \n",
            " 29  magnet_arm_x          4024 non-null   int64  \n",
            " 30  magnet_arm_y          4024 non-null   int64  \n",
            " 31  magnet_arm_z          4024 non-null   int64  \n",
            " 32  roll_dumbbell         4024 non-null   float64\n",
            " 33  pitch_dumbbell        4024 non-null   float64\n",
            " 34  yaw_dumbbell          4024 non-null   float64\n",
            " 35  total_accel_dumbbell  4024 non-null   int64  \n",
            " 36  gyros_dumbbell_x      4024 non-null   float64\n",
            " 37  gyros_dumbbell_y      4024 non-null   float64\n",
            " 38  gyros_dumbbell_z      4024 non-null   float64\n",
            " 39  accel_dumbbell_x      4024 non-null   int64  \n",
            " 40  accel_dumbbell_y      4024 non-null   int64  \n",
            " 41  accel_dumbbell_z      4024 non-null   int64  \n",
            " 42  magnet_dumbbell_x     4024 non-null   int64  \n",
            " 43  magnet_dumbbell_y     4024 non-null   int64  \n",
            " 44  magnet_dumbbell_z     4024 non-null   int64  \n",
            " 45  roll_forearm          4024 non-null   float64\n",
            " 46  pitch_forearm         4024 non-null   float64\n",
            " 47  yaw_forearm           4024 non-null   float64\n",
            " 48  total_accel_forearm   4024 non-null   int64  \n",
            " 49  gyros_forearm_x       4024 non-null   float64\n",
            " 50  gyros_forearm_y       4024 non-null   float64\n",
            " 51  gyros_forearm_z       4024 non-null   float64\n",
            " 52  accel_forearm_x       4024 non-null   int64  \n",
            " 53  accel_forearm_y       4024 non-null   int64  \n",
            " 54  accel_forearm_z       4024 non-null   int64  \n",
            " 55  magnet_forearm_x      4024 non-null   int64  \n",
            " 56  magnet_forearm_y      4024 non-null   int64  \n",
            " 57  magnet_forearm_z      4024 non-null   int64  \n",
            " 58  classe                4024 non-null   object \n",
            "dtypes: float64(24), int64(31), object(4)\n",
            "memory usage: 1.8+ MB\n"
          ]
        }
      ]
    },
    {
      "cell_type": "markdown",
      "source": [
        "## Pre-Processing"
      ],
      "metadata": {
        "id": "kFOoZAjSUv2-"
      }
    },
    {
      "cell_type": "markdown",
      "source": [
        "## Modeling Methods, Validation, and Performance Metrics"
      ],
      "metadata": {
        "id": "Iw_VtY5tU1BE"
      }
    },
    {
      "cell_type": "markdown",
      "source": [
        "### Decision Tree"
      ],
      "metadata": {
        "id": "5IreQmU-EOXX"
      }
    },
    {
      "cell_type": "markdown",
      "source": [
        "### Linear Modeling"
      ],
      "metadata": {
        "id": "ZhY5TPtEEO_A"
      }
    },
    {
      "cell_type": "markdown",
      "source": [
        "### Ensemble Modeling"
      ],
      "metadata": {
        "id": "zIWF7NJXEQ3d"
      }
    },
    {
      "cell_type": "markdown",
      "source": [
        "### Kernal Modeling"
      ],
      "metadata": {
        "id": "DJLE1oQ0ERek"
      }
    },
    {
      "cell_type": "markdown",
      "source": [
        "### Neural Networks"
      ],
      "metadata": {
        "id": "QyUU-ngXER-H"
      }
    },
    {
      "cell_type": "markdown",
      "source": [
        "### Support Vector Machines"
      ],
      "metadata": {
        "id": "WByEVvRtErmy"
      }
    },
    {
      "cell_type": "markdown",
      "source": [
        "## Modeling Results and Findings"
      ],
      "metadata": {
        "id": "Iu2uG9ehVE8c"
      }
    }
  ]
}